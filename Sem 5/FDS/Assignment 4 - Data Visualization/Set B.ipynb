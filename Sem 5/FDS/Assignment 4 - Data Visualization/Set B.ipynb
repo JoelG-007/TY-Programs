{
 "cells": [
  {
   "cell_type": "code",
   "execution_count": null,
   "id": "f511c024",
   "metadata": {},
   "outputs": [],
   "source": [
    "'''\n",
    "1. Write a Python program to create a graph to find relationship between the petal length \n",
    "and petal width. \n",
    "\n",
    "2. Write a Python program to draw scatter plots to compare two features of the iris \n",
    "dataset.\n",
    "\n",
    "3. Write a Python program to create box plots to see how each feature i.e. Sepal Length, \n",
    "Sepal Width, Petal Length, Petal Width are distributed across the three species.\n",
    "'''"
   ]
  },
  {
   "cell_type": "code",
   "execution_count": null,
   "id": "755b9393",
   "metadata": {},
   "outputs": [],
   "source": [
    "import matplotlib.pyplot as plt\n",
    "import seaborn as sns\n",
    "from sklearn.datasets import load_iris\n",
    "import pandas as pd"
   ]
  },
  {
   "cell_type": "code",
   "execution_count": null,
   "id": "3c5e0dbb",
   "metadata": {},
   "outputs": [],
   "source": [
    "# Load iris dataset\n",
    "iris = load_iris(as_frame=True)\n",
    "iris_df = iris.frame\n",
    "iris_df[\"species\"] = iris.target_names[iris.target]"
   ]
  },
  {
   "cell_type": "code",
   "execution_count": null,
   "id": "6df32163",
   "metadata": {},
   "outputs": [],
   "source": [
    "'''\n",
    "Write a Python program to create a graph to find relationship between the petal length \n",
    "and petal width.\n",
    "'''\n",
    "\n",
    "plt.figure(figsize=(6,4))\n",
    "sns.scatterplot(x=\"petal length (cm)\", y=\"petal width (cm)\", hue=\"species\", data=iris_df, palette=\"Set1\")\n",
    "plt.title(\"Relationship between Petal Length and Petal Width\")\n",
    "plt.xlabel(\"Petal Length (cm)\")\n",
    "plt.ylabel(\"Petal Width (cm)\")\n",
    "plt.legend()\n",
    "plt.show()"
   ]
  },
  {
   "cell_type": "code",
   "execution_count": null,
   "id": "932663fe",
   "metadata": {},
   "outputs": [],
   "source": [
    "'''\n",
    "Write a Python program to draw scatter plots to compare two features of the iris \n",
    "dataset.\n",
    "'''\n",
    "\n",
    "plt.figure(figsize=(6,4))\n",
    "sns.scatterplot(x=\"sepal length (cm)\", y=\"sepal width (cm)\", hue=\"species\", data=iris_df, palette=\"Set2\")\n",
    "plt.title(\"Scatter Plot: Sepal Length vs Sepal Width\")\n",
    "plt.xlabel(\"Sepal Length (cm)\")\n",
    "plt.ylabel(\"Sepal Width (cm)\")\n",
    "plt.legend()\n",
    "plt.show()"
   ]
  },
  {
   "cell_type": "code",
   "execution_count": null,
   "id": "73b2741e",
   "metadata": {},
   "outputs": [],
   "source": [
    "'''\n",
    "Write a Python program to create box plots to see how each feature i.e. Sepal Length, \n",
    "Sepal Width, Petal Length, Petal Width are distributed across the three species.\n",
    "'''\n",
    "\n",
    "features = [\"sepal length (cm)\", \"sepal width (cm)\", \"petal length (cm)\", \"petal width (cm)\"]\n",
    "\n",
    "plt.figure(figsize=(12,8))\n",
    "for i, feature in enumerate(features, 1):\n",
    "    plt.subplot(2,2,i)\n",
    "    sns.boxplot(x=\"species\", y=feature, data=iris_df, palette=\"Set3\")\n",
    "    plt.title(f\"Boxplot of {feature} by Species\")\n",
    "    plt.xlabel(\"Species\")\n",
    "    plt.ylabel(feature)\n",
    "\n",
    "plt.tight_layout()\n",
    "plt.show()"
   ]
  }
 ],
 "metadata": {
  "kernelspec": {
   "display_name": "Python 3",
   "language": "python",
   "name": "python3"
  },
  "language_info": {
   "codemirror_mode": {
    "name": "ipython",
    "version": 3
   },
   "file_extension": ".py",
   "mimetype": "text/x-python",
   "name": "python",
   "nbconvert_exporter": "python",
   "pygments_lexer": "ipython3",
   "version": "3.12.7"
  }
 },
 "nbformat": 4,
 "nbformat_minor": 5
}
