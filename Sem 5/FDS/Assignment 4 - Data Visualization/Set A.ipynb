{
 "cells": [
  {
   "cell_type": "code",
   "execution_count": null,
   "id": "1f631df9",
   "metadata": {},
   "outputs": [],
   "source": [
    "'''\n",
    "1. Generate a random array of 50 integers and display them using a line chart, scatter \n",
    "plot, histogram and box plot. Apply appropriate color, labels and styling options. \n",
    "\n",
    "2. Add two outliers to the above data and display the box plot. \n",
    "\n",
    "3. Create two lists, one representing subject names and the other representing marks \n",
    "obtained in those subjects. Display the data in a pie chart and bar chart. \n",
    "\n",
    "4. Write a Python program to create a Bar plot to get the frequency of the three species \n",
    "of the Iris data. \n",
    "\n",
    "5. Write a Python program to create a Pie plot to get the frequency of the three species of \n",
    "the Iris data. \n",
    "\n",
    "6. Write a Python program to create a histogram of the three species of the Iris data. \n",
    "'''"
   ]
  },
  {
   "cell_type": "code",
   "execution_count": null,
   "id": "4a136099",
   "metadata": {},
   "outputs": [],
   "source": [
    "import numpy as np\n",
    "import matplotlib.pyplot as plt\n",
    "import seaborn as sns\n",
    "import pandas as pd\n",
    "from sklearn.datasets import load_iris"
   ]
  },
  {
   "cell_type": "code",
   "execution_count": null,
   "id": "e84680ff",
   "metadata": {},
   "outputs": [],
   "source": [
    "'''\n",
    "Generate a random array of 50 integers and display them using a \n",
    "line chart, \n",
    "scatter plot, \n",
    "histogram and \n",
    "box plot. \n",
    "Apply appropriate color, labels and styling options.\n",
    "'''\n",
    "\n",
    "# Generate random integers\n",
    "data = np.random.randint(10, 100, 50)\n",
    "\n",
    "# Line chart\n",
    "plt.figure(figsize=(6,4))\n",
    "plt.plot(data, color=\"blue\", marker=\"o\", linestyle=\"--\")\n",
    "plt.title(\"Line Chart of Random Integers\")\n",
    "plt.xlabel(\"Index\")\n",
    "plt.ylabel(\"Value\")\n",
    "plt.grid(True)\n",
    "plt.show()\n",
    "\n",
    "# Scatter plot\n",
    "plt.figure(figsize=(6,4))\n",
    "plt.scatter(range(50), data, color=\"red\")\n",
    "plt.title(\"Scatter Plot of Random Integers\")\n",
    "plt.xlabel(\"Index\")\n",
    "plt.ylabel(\"Value\")\n",
    "plt.show()\n",
    "\n",
    "# Histogram\n",
    "plt.figure(figsize=(6,4))\n",
    "plt.hist(data, bins=10, color=\"green\", edgecolor=\"black\")\n",
    "plt.title(\"Histogram of Random Integers\")\n",
    "plt.xlabel(\"Value\")\n",
    "plt.ylabel(\"Frequency\")\n",
    "plt.show()\n",
    "\n",
    "# Box plot\n",
    "plt.figure(figsize=(6,4))\n",
    "plt.boxplot(data, patch_artist=True, boxprops=dict(facecolor=\"orange\"))\n",
    "plt.title(\"Box Plot of Random Integers\")\n",
    "plt.show()"
   ]
  },
  {
   "cell_type": "code",
   "execution_count": null,
   "id": "3cef6024",
   "metadata": {},
   "outputs": [],
   "source": [
    "'''\n",
    "Add two outliers to the above data and display the box plot.\n",
    "'''\n",
    "\n",
    "data_with_outliers = np.append(data, [200, 250])  # adding outliers\n",
    "plt.figure(figsize=(6,4))\n",
    "plt.boxplot(data_with_outliers, patch_artist=True, boxprops=dict(facecolor=\"lightblue\"))\n",
    "plt.title(\"Box Plot with Outliers\")\n",
    "plt.show()"
   ]
  },
  {
   "cell_type": "code",
   "execution_count": null,
   "id": "49ca12d9",
   "metadata": {},
   "outputs": [],
   "source": [
    "'''\n",
    "Create two lists, one representing subject names and the other representing marks \n",
    "obtained in those subjects. Display the data in a pie chart and bar chart.\n",
    "'''\n",
    "\n",
    "subjects = [\"Math\", \"Physics\", \"Chemistry\", \"Biology\", \"English\"]\n",
    "marks = [85, 90, 78, 88, 92]\n",
    "\n",
    "# Pie chart\n",
    "plt.figure(figsize=(6,6))\n",
    "plt.pie(marks, labels=subjects, autopct='%1.1f%%', startangle=140, colors=sns.color_palette(\"Set2\"))\n",
    "plt.title(\"Marks Distribution in Subjects (Pie Chart)\")\n",
    "plt.show()\n",
    "\n",
    "# Bar chart\n",
    "plt.figure(figsize=(6,4))\n",
    "plt.bar(subjects, marks, color=\"purple\")\n",
    "plt.title(\"Marks Distribution in Subjects (Bar Chart)\")\n",
    "plt.xlabel(\"Subjects\")\n",
    "plt.ylabel(\"Marks\")\n",
    "plt.show()"
   ]
  },
  {
   "cell_type": "code",
   "execution_count": null,
   "id": "6665ae46",
   "metadata": {},
   "outputs": [],
   "source": [
    "'''\n",
    "Write a Python program to create a Bar plot to get the frequency of the three species \n",
    "of the Iris data.\n",
    "'''\n",
    "\n",
    "iris = load_iris(as_frame=True)\n",
    "iris_df = iris.frame  # Pandas dataframe\n",
    "iris_df['species'] = iris.target_names[iris.target]\n",
    "\n",
    "# Frequency counts\n",
    "species_counts = iris_df['species'].value_counts()"
   ]
  },
  {
   "cell_type": "code",
   "execution_count": null,
   "id": "e6ac410e",
   "metadata": {},
   "outputs": [],
   "source": [
    "# Bar plot (species frequency)\n",
    "plt.figure(figsize=(6,4))\n",
    "species_counts.plot(kind=\"bar\", color=[\"red\", \"green\", \"blue\"])\n",
    "plt.title(\"Frequency of Iris Species (Bar Plot)\")\n",
    "plt.xlabel(\"Species\")\n",
    "plt.ylabel(\"Count\")\n",
    "plt.show()\n"
   ]
  },
  {
   "cell_type": "code",
   "execution_count": null,
   "id": "9bf79eba",
   "metadata": {},
   "outputs": [],
   "source": [
    "'''\n",
    "Write a Python program to create a Pie plot to get the frequency of the three species of \n",
    "the Iris data.\n",
    "'''\n",
    "\n",
    "# Pie plot (species frequency)\n",
    "plt.figure(figsize=(6,6))\n",
    "species_counts.plot(kind=\"pie\", autopct='%1.1f%%', startangle=90, colors=[\"red\", \"green\", \"blue\"])\n",
    "plt.title(\"Frequency of Iris Species (Pie Plot)\")\n",
    "plt.ylabel(\"\")  # remove extra ylabel\n",
    "plt.show()"
   ]
  },
  {
   "cell_type": "code",
   "execution_count": null,
   "id": "9d0a7786",
   "metadata": {},
   "outputs": [],
   "source": [
    "'''\n",
    "Write a Python program to create a histogram of the three species of the Iris data.\n",
    "'''\n",
    "\n",
    "# Histogram (species-wise sepal length as example)\n",
    "plt.figure(figsize=(6,4))\n",
    "for species in iris_df['species'].unique():\n",
    "    sns.histplot(iris_df[iris_df['species'] == species]['sepal length (cm)'], \n",
    "                 label=species, kde=False, bins=10, alpha=0.6)\n",
    "plt.title(\"Histogram of Sepal Length by Iris Species\")\n",
    "plt.xlabel(\"Sepal Length (cm)\")\n",
    "plt.ylabel(\"Frequency\")\n",
    "plt.legend()\n",
    "plt.show()"
   ]
  }
 ],
 "metadata": {
  "kernelspec": {
   "display_name": "Python 3",
   "language": "python",
   "name": "python3"
  },
  "language_info": {
   "codemirror_mode": {
    "name": "ipython",
    "version": 3
   },
   "file_extension": ".py",
   "mimetype": "text/x-python",
   "name": "python",
   "nbconvert_exporter": "python",
   "pygments_lexer": "ipython3",
   "version": "3.12.7"
  }
 },
 "nbformat": 4,
 "nbformat_minor": 5
}
