{
 "cells": [
  {
   "cell_type": "code",
   "execution_count": null,
   "id": "04f22a98",
   "metadata": {},
   "outputs": [],
   "source": [
    "'''\n",
    "1. Write a Python program to create a pairplot of the iris data set and check which flower \n",
    "species seems to be the most separable. \n",
    "\n",
    "2. Write a Python program to generate a box plot to show the Interquartile range and \n",
    "outliers for the three species for each feature. \n",
    "\n",
    "3. Write a Python program to create a join plot using \"kde\" to describe individual \n",
    "distributions on the same plot between Sepal length and Sepal width. Note: The kernel \n",
    "density estimation (kde) procedure visualizes a bivariate distribution. In seaborn, this \n",
    "kind of plot is shown with a contour plot and is available as a style in joint plot(). \n",
    "'''"
   ]
  },
  {
   "cell_type": "code",
   "execution_count": null,
   "id": "8369263a",
   "metadata": {},
   "outputs": [],
   "source": [
    "import seaborn as sns\n",
    "import matplotlib.pyplot as plt\n",
    "from sklearn.datasets import load_iris\n",
    "import pandas as pd\n"
   ]
  },
  {
   "cell_type": "code",
   "execution_count": null,
   "id": "e7e81b79",
   "metadata": {},
   "outputs": [],
   "source": [
    "# Load iris dataset\n",
    "iris = load_iris(as_frame=True)\n",
    "iris_df = iris.frame\n",
    "iris_df[\"species\"] = iris.target_names[iris.target]"
   ]
  },
  {
   "cell_type": "code",
   "execution_count": null,
   "id": "e56432df",
   "metadata": {},
   "outputs": [],
   "source": [
    "'''\n",
    "Write a Python program to create a pairplot of the iris data set and check which flower \n",
    "species seems to be the most separable. \n",
    "'''\n",
    "\n",
    "sns.pairplot(iris_df, hue=\"species\", diag_kind=\"kde\", palette=\"Set1\")\n",
    "plt.suptitle(\"Pairplot of Iris Dataset\", y=1.02)\n",
    "plt.show()"
   ]
  },
  {
   "cell_type": "code",
   "execution_count": null,
   "id": "51c0ebb2",
   "metadata": {},
   "outputs": [],
   "source": [
    "'''\n",
    "Write a Python program to generate a box plot to show the Interquartile range and \n",
    "outliers for the three species for each feature. \n",
    "'''\n",
    "\n",
    "features = iris.feature_names\n",
    "\n",
    "plt.figure(figsize=(12,8))\n",
    "for i, feature in enumerate(features, 1):\n",
    "    plt.subplot(2,2,i)\n",
    "    sns.boxplot(x=\"species\", y=feature, data=iris_df, palette=\"Set2\")\n",
    "    plt.title(f\"Boxplot of {feature} by Species\")\n",
    "    plt.xlabel(\"Species\")\n",
    "    plt.ylabel(feature)\n",
    "\n",
    "plt.tight_layout()\n",
    "plt.show()"
   ]
  },
  {
   "cell_type": "code",
   "execution_count": null,
   "id": "0ea33181",
   "metadata": {},
   "outputs": [],
   "source": [
    "'''\n",
    "Write a Python program to create a join plot using \"kde\" to describe individual \n",
    "distributions on the same plot between Sepal length and Sepal width.  \n",
    "'''\n",
    "\n",
    "sns.jointplot(\n",
    "    data=iris_df,\n",
    "    x=\"sepal length (cm)\",\n",
    "    y=\"sepal width (cm)\",\n",
    "    kind=\"kde\",\n",
    "    hue=\"species\",\n",
    "    fill=True,\n",
    "    palette=\"Set1\"\n",
    ")\n",
    "plt.suptitle(\"KDE Joinplot: Sepal Length vs Sepal Width\", y=1.02)\n",
    "plt.show()"
   ]
  }
 ],
 "metadata": {
  "kernelspec": {
   "display_name": "Python 3",
   "language": "python",
   "name": "python3"
  },
  "language_info": {
   "codemirror_mode": {
    "name": "ipython",
    "version": 3
   },
   "file_extension": ".py",
   "mimetype": "text/x-python",
   "name": "python",
   "nbconvert_exporter": "python",
   "pygments_lexer": "ipython3",
   "version": "3.12.7"
  }
 },
 "nbformat": 4,
 "nbformat_minor": 5
}
