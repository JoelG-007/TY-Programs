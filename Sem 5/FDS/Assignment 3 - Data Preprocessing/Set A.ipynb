{
 "cells": [
  {
   "cell_type": "code",
   "execution_count": null,
   "id": "e6a2a07e",
   "metadata": {},
   "outputs": [],
   "source": [
    "'''\n",
    "Create own dataset and do simple preprocessing \n",
    "    France, 44, 72000, No \n",
    "    Spain, 27, 48000, Yes \n",
    "    Germany, 30, 54000, No \n",
    "    Spain, 38, 61000, No \n",
    "    Germany, 40, , Yes\n",
    "    France, 35, 58000, Yes \n",
    "    Spain, , 52000, , No \n",
    "    France, 48, 79000, Yes \n",
    "    Germany, 50, 83000, No \n",
    "    France, 37, 67000, Yes \n",
    "Dataset Name: Data.CSV, with attributes as Country, age, Salary, Purchased. (save \n",
    "following data in Excel and save it with .CSV extension)  \n",
    "*Above dataset is also available at: \n",
    "https://github.com/suneet10/DataPreprocessing/blob/main/Data.csv \n",
    "\n",
    "Write a program in python to perform following task \n",
    "1. Import Dataset and do the followings: \n",
    "a) Describing the dataset \n",
    "b) Shape of the dataset \n",
    "c) Display first 3 rows from dataset \n",
    "\n",
    "2. Handling Missing Value: \n",
    "a) Replace missing value of salary,age column with mean of \n",
    "that column. \n",
    "\n",
    "3. Data.csv have two categorical column (the country column, and the purchased column). \n",
    "a. Apply OneHot coding on Country column. \n",
    "b. Apply Label encoding on purchased column \n",
    "'''"
   ]
  },
  {
   "cell_type": "code",
   "execution_count": null,
   "id": "595c1522",
   "metadata": {},
   "outputs": [],
   "source": [
    "import pandas as pd\n",
    "import numpy as np\n",
    "from sklearn.preprocessing import OneHotEncoder, LabelEncoder"
   ]
  },
  {
   "cell_type": "code",
   "execution_count": null,
   "id": "302d9447",
   "metadata": {},
   "outputs": [],
   "source": [
    "'''\n",
    "Import Dataset and do the followings: \n",
    "a) Describing the dataset \n",
    "b) Shape of the dataset \n",
    "c) Display first 3 rows from dataset \n",
    "'''\n",
    "\n",
    "data = pd.read_csv(\"Data.csv\")\n",
    "\n",
    "print(\"Dataset Description:\\n\", data.describe(include=\"all\"))\n",
    "print(\"\\nShape of dataset:\", data.shape)\n",
    "print(\"\\nFirst 3 rows of dataset:\\n\", data.head(3))\n"
   ]
  },
  {
   "cell_type": "code",
   "execution_count": null,
   "id": "ece401a7",
   "metadata": {},
   "outputs": [],
   "source": [
    "'''\n",
    "Handling Missing Value: \n",
    "a) Replace missing value of salary,age column with mean of \n",
    "that column\n",
    "'''\n",
    "\n",
    "mean=data[\"Age\"].mean()\n",
    "data[\"Age\"].fillna(mean,inplace=True)\n",
    "data"
   ]
  },
  {
   "cell_type": "code",
   "execution_count": null,
   "id": "b74d23ba",
   "metadata": {},
   "outputs": [],
   "source": [
    "mean=data[\"Salary\"].mean()\n",
    "data[\"Salary\"].fillna(mean,inplace=True)\n",
    "data"
   ]
  },
  {
   "cell_type": "code",
   "execution_count": null,
   "id": "4ff3a4f9",
   "metadata": {},
   "outputs": [],
   "source": [
    "'''\n",
    "Data.csv have two categorical column (the country column, and the purchased column). \n",
    "a. Apply OneHot coding on Country column. \n",
    "b. Apply Label encoding on purchased column\n",
    "'''\n",
    "\n",
    "ohe = OneHotEncoder()\n",
    "country_encoded = ohe.fit_transform(data[['Country']]).toarray()\n",
    "\n",
    "country_df = pd.DataFrame(country_encoded, columns=ohe.get_feature_names_out(['Country']))\n",
    "\n",
    "# Drop old Country column and add encoded columns\n",
    "data = pd.concat([data.drop('Country', axis=1), country_df], axis=1)"
   ]
  },
  {
   "cell_type": "code",
   "execution_count": null,
   "id": "7759e848",
   "metadata": {},
   "outputs": [],
   "source": [
    "le = LabelEncoder()\n",
    "data['Purchased'] = le.fit_transform(data['Purchased'])"
   ]
  },
  {
   "cell_type": "code",
   "execution_count": null,
   "id": "8ad52a3d",
   "metadata": {},
   "outputs": [],
   "source": [
    "print(\"\\nFinal Preprocessed Dataset:\\n\", data)"
   ]
  }
 ],
 "metadata": {
  "kernelspec": {
   "display_name": "Python 3",
   "language": "python",
   "name": "python3"
  },
  "language_info": {
   "codemirror_mode": {
    "name": "ipython",
    "version": 3
   },
   "file_extension": ".py",
   "mimetype": "text/x-python",
   "name": "python",
   "nbconvert_exporter": "python",
   "pygments_lexer": "ipython3",
   "version": "3.12.7"
  }
 },
 "nbformat": 4,
 "nbformat_minor": 5
}
