{
 "cells": [
  {
   "cell_type": "code",
   "execution_count": null,
   "id": "37db9b50",
   "metadata": {},
   "outputs": [],
   "source": [
    "'''\n",
    "Import standard dataset and Use Transformation Techniques \n",
    "Dataset Name: winequality-red.csv \n",
    "Dataset Link: http://archive.ics.uci.edu/ml/machine-learning-databases/wine-quality/winequality-red.csv \n",
    "\n",
    "Write a program in python to perform following task \n",
    "1. Import Dataset from above link. \n",
    "\n",
    "2. Rescaling: Normalised the dataset using MinMaxScaler class \n",
    "\n",
    "3. Standardizing Data (transform them into a standard Gaussian distribution with a mean of \n",
    "0 and a standard deviation of 1) \n",
    "\n",
    "4. Normalizing Data ( rescale each observation to a length of 1 (a unit norm). For this, use \n",
    "the Normalizer class.) \n",
    "\n",
    "5. Binarizing Data using we use the Binarizer class (Using a binary threshold, it is possible \n",
    "to transform our data by marking the values above it 1 and those equal to or below it, 0) \n",
    "'''"
   ]
  },
  {
   "cell_type": "code",
   "execution_count": null,
   "id": "bbb14f97",
   "metadata": {},
   "outputs": [],
   "source": [
    "import pandas as pd\n",
    "from sklearn.preprocessing import MinMaxScaler, StandardScaler, Normalizer, Binarizer"
   ]
  },
  {
   "cell_type": "code",
   "execution_count": null,
   "id": "4b903fb4",
   "metadata": {},
   "outputs": [],
   "source": [
    "'''\n",
    "1. Import Dataset from above link. \n",
    "'''\n",
    "\n",
    "# url = \"http://archive.ics.uci.edu/ml/machine-learning-databases/wine-quality/winequality-red.csv\"\n",
    "# data = pd.read_csv(url, sep=\";\")\n",
    "\n",
    "# NOTE: Replace 'winequality-red.csv' with actual downloaded CSV file path (Or download it from the CSV files folder)\n",
    "data = pd.read_csv(\"winequality-red.csv\")\n",
    "print(\"Original Dataset Shape:\", data.shape)\n",
    "print(\"\\nFirst 5 rows of data:\\n\", data.head())"
   ]
  },
  {
   "cell_type": "code",
   "execution_count": null,
   "id": "7efb229c",
   "metadata": {},
   "outputs": [],
   "source": [
    "'''\n",
    "Rescaling using MinMaxScaler\n",
    "'''\n",
    "\n",
    "scaler = MinMaxScaler()\n",
    "data_rescaled = scaler.fit_transform(data)\n",
    "\n",
    "print(\"\\n--- After MinMax Scaling ---\")\n",
    "print(pd.DataFrame(data_rescaled, columns=data.columns).head())\n"
   ]
  },
  {
   "cell_type": "code",
   "execution_count": null,
   "id": "3c34301c",
   "metadata": {},
   "outputs": [],
   "source": [
    "'''\n",
    "Standardizing Data (Gaussian distribution)\n",
    "'''\n",
    "\n",
    "scaler_standard = StandardScaler()\n",
    "data_standardized = scaler_standard.fit_transform(data)\n",
    "\n",
    "print(\"\\n--- After Standardization ---\")\n",
    "print(pd.DataFrame(data_standardized, columns=data.columns).head())"
   ]
  },
  {
   "cell_type": "code",
   "execution_count": null,
   "id": "00952bf9",
   "metadata": {},
   "outputs": [],
   "source": [
    "'''\n",
    "Normalizing Data (unit norm for each row)\n",
    "'''\n",
    "\n",
    "normalizer = Normalizer()\n",
    "data_normalized = normalizer.fit_transform(data)\n",
    "\n",
    "print(\"\\n--- After Normalization ---\")\n",
    "print(pd.DataFrame(data_normalized, columns=data.columns).head())"
   ]
  },
  {
   "cell_type": "code",
   "execution_count": null,
   "id": "d57c19a8",
   "metadata": {},
   "outputs": [],
   "source": [
    "'''\n",
    "Binarizing Data\n",
    "'''\n",
    "\n",
    "binarizer = Binarizer(threshold=0.5)\n",
    "data_binarized = binarizer.fit_transform(data)\n",
    "\n",
    "print(\"\\n--- After Binarization ---\")\n",
    "print(pd.DataFrame(data_binarized, columns=data.columns).head())"
   ]
  }
 ],
 "metadata": {
  "kernelspec": {
   "display_name": "Python 3",
   "language": "python",
   "name": "python3"
  },
  "language_info": {
   "codemirror_mode": {
    "name": "ipython",
    "version": 3
   },
   "file_extension": ".py",
   "mimetype": "text/x-python",
   "name": "python",
   "nbconvert_exporter": "python",
   "pygments_lexer": "ipython3",
   "version": "3.12.7"
  }
 },
 "nbformat": 4,
 "nbformat_minor": 5
}
