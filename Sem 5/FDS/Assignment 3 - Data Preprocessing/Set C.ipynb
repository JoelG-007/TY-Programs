{
 "cells": [
  {
   "cell_type": "code",
   "execution_count": null,
   "id": "98b20303",
   "metadata": {},
   "outputs": [],
   "source": [
    "'''\n",
    "Import dataset and perform Discretization of Continuous Data \n",
    "Dataset name: Student_bucketing.csv \n",
    "Dataset link: https://github.com/TrainingByPackt/Data-Science-with-Python/blob/master/Chapter01/Data/Student_bucketing.csv \n",
    "The dataset consists of student details such as Student_id, Age, Grade, Employed, and marks.\n",
    "\n",
    "Write a program in python to perform following task \n",
    "1) Write python code to import the required libraries and load the dataset into a pandas \n",
    "dataframe. \n",
    "\n",
    "2) Display the first five rows of the dataframe. \n",
    "\n",
    "3) Discretized the marks column into five discrete buckets, the labels need to be populated \n",
    "accordingly with five values: Poor, Below_average, Average, Above_average, and \n",
    "Excellent. Perform bucketing using the cut () function on the marks column and display the \n",
    "top 10 columns. \n",
    "'''"
   ]
  },
  {
   "cell_type": "code",
   "execution_count": null,
   "id": "86d5357e",
   "metadata": {},
   "outputs": [],
   "source": [
    "'''\n",
    "Write python code to import the required libraries and load the dataset into a pandas \n",
    "dataframe. \n",
    "'''\n",
    "\n",
    "import pandas as pd\n",
    "\n",
    "# url = \"https://raw.githubusercontent.com/TrainingByPackt/Data-Science-with-Python/master/Chapter01/Data/Student_bucketing.csv\"\n",
    "# data = pd.read_csv(url)\n",
    "\n",
    "# NOTE: Replace 'Student_bucketing.csv' with actual downloaded CSV file path (Or download it from the 'CSV files' folder)\n",
    "data = pd.read_csv(\"Student_bucketing.csv\")"
   ]
  },
  {
   "cell_type": "code",
   "execution_count": null,
   "id": "446d30c1",
   "metadata": {},
   "outputs": [],
   "source": [
    "'''\n",
    "Display the first five rows of the dataframe. \n",
    "'''\n",
    "\n",
    "print(\"First 5 rows of dataset:\\n\")\n",
    "print(data.head())"
   ]
  },
  {
   "cell_type": "code",
   "execution_count": null,
   "id": "26208edd",
   "metadata": {},
   "outputs": [],
   "source": [
    "'''\n",
    "Discretized the marks column into five discrete buckets, the labels need to be populated \n",
    "accordingly with five values: Poor, Below_average, Average, Above_average, and \n",
    "Excellent. Perform bucketing using the cut () function on the marks column and display the \n",
    "top 10 columns.\n",
    "'''\n",
    "\n",
    "labels = ['Poor', 'Below_average', 'Average', 'Above_average', 'Excellent']\n",
    "\n",
    "# Create buckets using cut()\n",
    "data['Marks_Bucket'] = pd.cut(\n",
    "    data['marks'], \n",
    "    bins=5,   # 5 equal-width bins\n",
    "    labels=labels\n",
    ")\n",
    "\n",
    "# Display first 10 rows after bucketing\n",
    "print(\"\\nTop 10 rows after discretization:\\n\")\n",
    "print(data.head(10))"
   ]
  }
 ],
 "metadata": {
  "language_info": {
   "name": "python"
  }
 },
 "nbformat": 4,
 "nbformat_minor": 5
}
