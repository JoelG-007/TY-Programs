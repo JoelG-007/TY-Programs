{
 "cells": [
  {
   "cell_type": "code",
   "execution_count": null,
   "id": "acf5040c",
   "metadata": {},
   "outputs": [],
   "source": [
    "'''\n",
    "1. Write a Python program to create a dataframe containing columns name, age and percentage. Add 10 \n",
    "rows to the dataframe. View the dataframe. Print the shape, number of rows-columns, data types, \n",
    "feature names and the description of the data. View basic statistical details of the data. \n",
    "\n",
    "2. Write a Python program to Add 5 rows with duplicate values and missing values. Add a column \n",
    "‘remarks’ with empty values. Display the data \n",
    "\n",
    "3. Write a Python program to get the number of observations, missing values and duplicate values. \n",
    "\n",
    "4. Write a Python program to drop ‘remarks’ column from the dataframe. Also drop all null and empty \n",
    "values. Print the modified data. \n",
    "\n",
    "5. Write a Python program to generate a line plot of name vs percentage \n",
    "\n",
    "6. Download the heights and weights dataset and load the dataset from a given csv file into a dataframe. \n",
    "Print the first, last 10 rows and random 20 rows. (https://www.kaggle.com/burnoutminer/heights- and\n",
    "weights-dataset). Print the statistical details of the dataset. Write a Python program to add a column to \n",
    "the dataframe “BMI” which is calculated as : weight/height2 \n",
    "\n",
    "7. Write a Python program to generate a scatter plot of height vs weight. \n",
    "'''"
   ]
  },
  {
   "cell_type": "code",
   "execution_count": null,
   "id": "84702e18",
   "metadata": {},
   "outputs": [],
   "source": [
    "# Importing necessary libraries \n",
    "import pandas as pd\n",
    "import numpy as np\n",
    "import matplotlib.pyplot as plt"
   ]
  },
  {
   "cell_type": "code",
   "execution_count": null,
   "id": "647c6900",
   "metadata": {},
   "outputs": [],
   "source": [
    "'''\n",
    "Write a Python program to create a dataframe containing columns name, age and percentage. Add 10 \n",
    "rows to the dataframe. View the dataframe. Print the shape, number of rows-columns, data types, \n",
    "feature names and the description of the data. View basic statistical details of the data. \n",
    "'''\n",
    "\n",
    "data = {\n",
    "    'name': ['John', 'Mary', 'Alex', 'Sara', 'Tom', 'Nina', 'James', 'Lily', 'Robert', 'Sophia'],\n",
    "    'age': [20, 21, 19, 22, 20, 23, 21, 22, 24, 20],\n",
    "    'percentage': [85, 90, 75, 88, 70, 95, 80, 89, 92, 76]\n",
    "}\n",
    "\n",
    "df = pd.DataFrame(data)\n",
    "print(\"\\nDataframe:\\n\", df)\n",
    "\n",
    "# Shape, rows-cols, datatypes, feature names, description\n",
    "print(\"\\nShape (rows, columns):\", df.shape)\n",
    "print(\"Number of rows:\", df.shape[0])\n",
    "print(\"Number of columns:\", df.shape[1])\n",
    "print(\"\\nData types:\\n\", df.dtypes)\n",
    "print(\"\\nFeature names:\", df.columns.tolist())\n",
    "print(\"\\nDescription of the data:\\n\", df.describe(include='all'))\n",
    "print(\"\\nBasic Statistical Details:\\n\", df.describe())"
   ]
  },
  {
   "cell_type": "code",
   "execution_count": null,
   "id": "139ea46c",
   "metadata": {},
   "outputs": [],
   "source": [
    "'''\n",
    "Write a Python program to Add 5 rows with duplicate values and missing values. Add a column \n",
    "‘remarks’ with empty values. Display the data\n",
    "'''\n",
    "\n",
    "new_data = {\n",
    "    'name': ['John', None, 'Sara', 'Tom', None],\n",
    "    'age': [20, np.nan, 22, np.nan, 25],\n",
    "    'percentage': [85, 77, None, 70, np.nan]\n",
    "}\n",
    "df_extra = pd.DataFrame(new_data)\n",
    "\n",
    "df = pd.concat([df, df_extra], ignore_index=True)\n",
    "df['remarks'] = \"\"   # Add remarks column with empty values\n",
    "\n",
    "print(\"\\nData with duplicates, missing values and 'remarks' column:\\n\", df)"
   ]
  },
  {
   "cell_type": "code",
   "execution_count": null,
   "id": "01873c6f",
   "metadata": {},
   "outputs": [],
   "source": [
    "'''\n",
    "Write a Python program to get the number of observations, missing values and duplicate values.\n",
    "'''\n",
    "\n",
    "print(\"\\nNumber of observations (rows):\", len(df))\n",
    "print(\"Number of missing values:\\n\", df.isnull().sum())\n",
    "print(\"Number of duplicate rows:\", df.duplicated().sum())"
   ]
  },
  {
   "cell_type": "code",
   "execution_count": null,
   "id": "136ba19b",
   "metadata": {},
   "outputs": [],
   "source": [
    "'''\n",
    "Write a Python program to drop ‘remarks’ column from the dataframe. Also drop all null and empty \n",
    "values. Print the modified data. \n",
    "'''\n",
    "\n",
    "df_cleaned = df.drop(columns=['remarks'])\n",
    "df_cleaned = df_cleaned.dropna()\n",
    "\n",
    "print(\"\\nModified Data after dropping remarks & null values:\\n\", df_cleaned)"
   ]
  },
  {
   "cell_type": "code",
   "execution_count": null,
   "id": "0aa9ebec",
   "metadata": {},
   "outputs": [],
   "source": [
    "'''\n",
    "Write a Python program to generate a line plot of name vs percentage\n",
    "'''\n",
    "\n",
    "plt.figure(figsize=(8,5))\n",
    "plt.plot(df_cleaned['name'], df_cleaned['percentage'], marker='o', linestyle='-', color='b')\n",
    "plt.title(\"Name vs Percentage\")\n",
    "plt.xlabel(\"Name\")\n",
    "plt.ylabel(\"Percentage\")\n",
    "plt.grid(True)\n",
    "plt.show()"
   ]
  },
  {
   "cell_type": "code",
   "execution_count": null,
   "id": "ab8134af",
   "metadata": {},
   "outputs": [],
   "source": [
    "'''\n",
    "Download the heights and weights dataset and load the dataset from a given csv file into a dataframe. \n",
    "Print the first, last 10 rows and random 20 rows. (https://www.kaggle.com/burnoutminer/heights- and\n",
    "weights-dataset). Print the statistical details of the dataset. Write a Python program to add a column to \n",
    "the dataframe “BMI” which is calculated as : weight/height2\n",
    "'''\n",
    "\n",
    "# NOTE: Replace 'SOCR-HeightWeight.csv' with actual downloaded CSV file path (Or download it from the CSV file folder)\n",
    "df_hw = pd.read_csv(\"SOCR-HeightWeight.csv\")\n",
    "\n",
    "print(\"\\nFirst 10 rows:\\n\", df_hw.head(10))\n",
    "print(\"\\nLast 10 rows:\\n\", df_hw.tail(10))\n",
    "print(\"\\nRandom 20 rows:\\n\", df_hw.sample(20))\n",
    "print(\"\\nStatistical details:\\n\", df_hw.describe())\n",
    "\n",
    "# Add BMI column (weight / height^2)\n",
    "df_hw['BMI'] = df_hw['Weight(Pounds)'] / (df_hw['Height(Inches)'] ** 2) # Change the column names if they are different...\n",
    "print(\"\\nData with BMI column:\\n\", df_hw.head())"
   ]
  },
  {
   "cell_type": "code",
   "execution_count": null,
   "id": "a7782d8e",
   "metadata": {},
   "outputs": [],
   "source": [
    "'''\n",
    "Write a Python program to generate a scatter plot of height vs weight.\n",
    "'''\n",
    "\n",
    "plt.figure(figsize=(8,5))\n",
    "plt.scatter(df_hw['Height(Inches)'], df_hw['Weight(Pounds)'], alpha=0.6, color='b') # Change the column names if they are different...\n",
    "plt.title(\"Height vs Weight Scatter Plot\")\n",
    "plt.xlabel(\"Height (m)\")\n",
    "plt.ylabel(\"Weight (kg)\")\n",
    "plt.grid(True)\n",
    "plt.show()"
   ]
  }
 ],
 "metadata": {
  "kernelspec": {
   "display_name": "Python 3",
   "language": "python",
   "name": "python3"
  },
  "language_info": {
   "codemirror_mode": {
    "name": "ipython",
    "version": 3
   },
   "file_extension": ".py",
   "mimetype": "text/x-python",
   "name": "python",
   "nbconvert_exporter": "python",
   "pygments_lexer": "ipython3",
   "version": "3.12.7"
  }
 },
 "nbformat": 4,
 "nbformat_minor": 5
}
