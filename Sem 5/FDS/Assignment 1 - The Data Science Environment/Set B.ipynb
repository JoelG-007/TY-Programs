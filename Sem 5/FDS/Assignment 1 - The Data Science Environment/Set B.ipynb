{
 "cells": [
  {
   "cell_type": "code",
   "execution_count": null,
   "id": "889a51f3",
   "metadata": {},
   "outputs": [],
   "source": [
    "'''\n",
    "1. Download the heights and weights dataset and load the dataset from a given csv file into a dataframe. \n",
    "Print the first, last 10 rows and random 20 rows. (https://www.kaggle.com/burnoutminer/heights- and\n",
    "weights-dataset) \n",
    "\n",
    "2. Write a Python program to find the shape, size, datatypes of the dataframe object. \n",
    "\n",
    "3. Write a Python program to get the number of observations, missing values and nan values. \n",
    "\n",
    "4. Write a Python program to add a column to the dataframe “BMI” which is calculated as : \n",
    "weight/height2 \n",
    "\n",
    "5. Write a Python program to find the maximum and minimum BMI. \n",
    "'''"
   ]
  },
  {
   "cell_type": "code",
   "execution_count": null,
   "id": "11357e69",
   "metadata": {},
   "outputs": [],
   "source": [
    "# Importing necessary libraries \n",
    "import pandas as pd\n",
    "import numpy as np"
   ]
  },
  {
   "cell_type": "code",
   "execution_count": null,
   "id": "e742237b",
   "metadata": {},
   "outputs": [],
   "source": [
    "'''\n",
    "Download the heights and weights dataset and load the dataset from a given csv file into a dataframe. \n",
    "Print the first, last 10 rows and random 20 rows. (https://www.kaggle.com/burnoutminer/heights- and\n",
    "weights-dataset) \n",
    "'''\n",
    "\n",
    "# NOTE: Replace 'SOCR-HeightWeight.csv' with actual downloaded CSV file path (Or download it from the CSV file folder)\n",
    "df = pd.read_csv(\"SOCR-HeightWeight.csv\")\n",
    "\n",
    "print(\"\\nFirst 10 rows:\\n\", df.head(10))\n",
    "print(\"\\nLast 10 rows:\\n\", df.tail(10))\n",
    "print(\"\\nRandom 20 rows:\\n\", df.sample(20))"
   ]
  },
  {
   "cell_type": "code",
   "execution_count": null,
   "id": "8bd0e47a",
   "metadata": {},
   "outputs": [],
   "source": [
    "'''\n",
    "Write a Python program to find the shape, size, datatypes of the dataframe object. \n",
    "'''\n",
    "\n",
    "print(\"\\nShape (rows, columns):\", df.shape)\n",
    "print(\"Size (total elements):\", df.size)\n",
    "print(\"Data types:\\n\", df.dtypes)"
   ]
  },
  {
   "cell_type": "code",
   "execution_count": null,
   "id": "e16b15dd",
   "metadata": {},
   "outputs": [],
   "source": [
    "'''\n",
    "Write a Python program to get the number of observations, missing values and nan values.\n",
    "'''\n",
    "\n",
    "print(\"\\nNumber of observations (rows):\", len(df))\n",
    "print(\"Number of missing values per column:\\n\", df.isnull().sum())\n",
    "print(\"Total NaN values in dataset:\", df.isna().sum().sum())"
   ]
  },
  {
   "cell_type": "code",
   "execution_count": null,
   "id": "db1a2099",
   "metadata": {},
   "outputs": [],
   "source": [
    "'''\n",
    "Write a Python program to add a column to the dataframe “BMI” which is calculated as : \n",
    "weight/height2\n",
    "'''\n",
    "\n",
    "df['BMI'] = df['Weight(Pounds)'] / (df['Height(Inches)'] ** 2) # Change the column names if they are different...\n",
    "\n",
    "print(\"\\nDataset with BMI column:\\n\", df.head())"
   ]
  },
  {
   "cell_type": "code",
   "execution_count": null,
   "id": "f4d80dbe",
   "metadata": {},
   "outputs": [],
   "source": [
    "'''\n",
    "Write a Python program to find the maximum and minimum BMI.\n",
    "'''\n",
    "\n",
    "max_bmi = df['BMI'].max()\n",
    "min_bmi = df['BMI'].min()\n",
    "\n",
    "print(\"\\nMaximum BMI:\", max_bmi)\n",
    "print(\"Minimum BMI:\", min_bmi)"
   ]
  }
 ],
 "metadata": {
  "kernelspec": {
   "display_name": "Python 3",
   "language": "python",
   "name": "python3"
  },
  "language_info": {
   "codemirror_mode": {
    "name": "ipython",
    "version": 3
   },
   "file_extension": ".py",
   "mimetype": "text/x-python",
   "name": "python",
   "nbconvert_exporter": "python",
   "pygments_lexer": "ipython3",
   "version": "3.12.7"
  }
 },
 "nbformat": 4,
 "nbformat_minor": 5
}
