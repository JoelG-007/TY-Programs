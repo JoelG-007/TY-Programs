{
 "cells": [
  {
   "cell_type": "code",
   "execution_count": null,
   "id": "3b8dfbea",
   "metadata": {},
   "outputs": [],
   "source": [
    "\"\"\"\n",
    "1. Download iris dataset file. Read this csv file using read_csv() function. Take samples \n",
    "from entire dataset. Display maximum and minimum values of all numeric attributes. \n",
    "\n",
    "2. Continue with above dataset, find number of records for each distinct value of class \n",
    "attribute. Consider entire dataset and not the samples. \n",
    "\n",
    "3. Display column-wise mean, and median for iris dataset from Q.4 (Hint: Use mean() and \n",
    "median() functions of pandas dataframe.\n",
    "\"\"\""
   ]
  },
  {
   "cell_type": "code",
   "execution_count": null,
   "id": "b3964704",
   "metadata": {},
   "outputs": [],
   "source": [
    "import pandas as pd"
   ]
  },
  {
   "cell_type": "code",
   "execution_count": null,
   "id": "a2788069",
   "metadata": {},
   "outputs": [],
   "source": [
    "'''\n",
    "Download iris dataset file. Read this csv file using read_csv() function. Take samples \n",
    "from entire dataset. Display maximum and minimum values of all numeric attributes. \n",
    "'''\n",
    "# NOTE: Replace 'IRIS.csv' with actual downloaded CSV file path (Or download it from the CSV file folder)\n",
    "\n",
    "df = pd.read_csv(\"IRIS.csv\")\n",
    "\n",
    "# Taking random samples \n",
    "sample_df = df.sample(5)\n",
    "print(\"\\nSample from Iris dataset:\\n\", sample_df)\n",
    "\n",
    "# Display maximum and minimum values of all numeric attributes\n",
    "print(\"\\nMaximum values:\\n\", df.select_dtypes(include='number').max())\n",
    "print(\"\\nMinimum values:\\n\", df.select_dtypes(include='number').min())"
   ]
  },
  {
   "cell_type": "code",
   "execution_count": null,
   "id": "48df1621",
   "metadata": {},
   "outputs": [],
   "source": [
    "'''\n",
    "Continue with above dataset, find number of records for each distinct value of class \n",
    "attribute. Consider entire dataset and not the samples.\n",
    "'''\n",
    "\n",
    "print(\"\\nNumber of records per class attribute:\\n\", df['species'].value_counts())"
   ]
  },
  {
   "cell_type": "code",
   "execution_count": null,
   "id": "c5b9a7ea",
   "metadata": {},
   "outputs": [],
   "source": [
    "'''\n",
    "Display column-wise mean, and median for iris dataset from Q.4 (Hint: Use mean() and \n",
    "median() functions of pandas dataframe.\n",
    "'''\n",
    "\n",
    "print(\"\\nColumn-wise Mean:\\n\", df.select_dtypes(include='number').mean())\n",
    "print(\"\\nColumn-wise Median:\\n\", df.select_dtypes(include='number').median())"
   ]
  }
 ],
 "metadata": {
  "kernelspec": {
   "display_name": "Python 3",
   "language": "python",
   "name": "python3"
  },
  "language_info": {
   "codemirror_mode": {
    "name": "ipython",
    "version": 3
   },
   "file_extension": ".py",
   "mimetype": "text/x-python",
   "name": "python",
   "nbconvert_exporter": "python",
   "pygments_lexer": "ipython3",
   "version": "3.12.7"
  }
 },
 "nbformat": 4,
 "nbformat_minor": 5
}
