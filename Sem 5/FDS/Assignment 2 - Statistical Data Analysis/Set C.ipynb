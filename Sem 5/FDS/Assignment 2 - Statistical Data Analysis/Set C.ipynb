{
 "cells": [
  {
   "cell_type": "code",
   "execution_count": null,
   "id": "4f462bcf",
   "metadata": {},
   "outputs": [],
   "source": [
    "'''\n",
    "1. Write a python program to find Minkowskii Distance between two points. \n",
    "\n",
    "2. Write a Python NumPy program to compute the weighted average along the specified axis \n",
    "of a given flattened array. \n",
    "From Wikipedia: The weighted arithmetic mean is similar to an ordinary arithmetic mean \n",
    "(the most common type of average), except that instead of each of the data points \n",
    "contributing equally to the final average, some data points contribute more than others. The \n",
    "notion of weighted mean plays a role in descriptive statistics and also occurs in a more \n",
    "general form in several other areas of mathematics. \n",
    "    Sample output: \n",
    "    Original flattened array: \n",
    "     [[0 1 2] \n",
    "     [3 4 5] \n",
    "     [6 7 8]] \n",
    "    Weighted average along the specified axis of the above flattened array: \n",
    "    [1.2 4.2 7.2] \n",
    "\n",
    "3. Write a NumPy program to compute cross-correlation of two given arrays. \n",
    "    Sample Output: \n",
    "    Original array1: \n",
    "     [0 1 3] \n",
    "    Original array2: \n",
    "     [2 4 5] \n",
    "    Cross-correlation of the said arrays: \n",
    "     [[2.33333333 2.16666667] \n",
    "     [2.16666667 2.33333333]] \n",
    "\n",
    "4. Download any dataset from UCI (do not repeat it from set B). Read this csv file using \n",
    "read_csv() function. Describe the dataset using appropriate function. Display mean value \n",
    "of numeric attribute. Check any data values are missing or not. \n",
    "\n",
    "5. Download nursery dataset from UCI. Split dataset on any one categorical attribute. \n",
    "Compare the means of each split. (Use groupby) \n",
    "\n",
    "6. Create one dataframe with 5 subjects and marks of 10 students for each subject. Find \n",
    "arithmetic mean, geometric mean, and harmonic mean. \n",
    "\n",
    "7. Download any csv file of your choice and display details about data using pandas profiling. \n",
    "Show stats in HTML form. \n",
    "'''"
   ]
  },
  {
   "cell_type": "code",
   "execution_count": null,
   "id": "bedd8779",
   "metadata": {},
   "outputs": [],
   "source": [
    "import numpy as np\n",
    "import pandas as pd\n",
    "from scipy.stats import gmean, hmean   # For geometric & harmonic mean"
   ]
  },
  {
   "cell_type": "code",
   "execution_count": null,
   "id": "4d82de89",
   "metadata": {},
   "outputs": [],
   "source": [
    "'''\n",
    "Write a python program to find Minkowskii Distance between two points.\n",
    "'''\n",
    "\n",
    "point1 = np.array([1, 2])\n",
    "point2 = np.array([4, 6])\n",
    "# order p = 3 (example), formula: (sum(|x-y|^p))^(1/p)\n",
    "p = 3\n",
    "minkowski_distance = np.linalg.norm(point1 - point2, ord=p)\n",
    "print(\"Minkowski Distance (p=3):\", minkowski_distance)"
   ]
  },
  {
   "cell_type": "code",
   "execution_count": null,
   "id": "8a29b5f6",
   "metadata": {},
   "outputs": [],
   "source": [
    "'''Write a Python NumPy program to compute the weighted average along the specified axis \n",
    "of a given flattened array.\n",
    "'''\n",
    "\n",
    "arr = np.arange(9).reshape(3, 3)\n",
    "print(\"\\nOriginal flattened array:\\n\", arr)\n",
    "weights = np.array([0.2, 0.3, 0.5])\n",
    "weighted_avg = np.average(arr, axis=1, weights=weights)\n",
    "print(\"Weighted average along axis=1:\", weighted_avg)"
   ]
  },
  {
   "cell_type": "code",
   "execution_count": null,
   "id": "c08afafe",
   "metadata": {},
   "outputs": [],
   "source": [
    "'''\n",
    "Write a NumPy program to compute cross-correlation of two given arrays.\n",
    "'''\n",
    "\n",
    "a1 = np.array([0, 1, 3])\n",
    "a2 = np.array([2, 4, 5])\n",
    "print(\"\\nOriginal array1:\", a1)\n",
    "print(\"Original array2:\", a2)\n",
    "cross_corr = np.corrcoef(a1, a2)\n",
    "print(\"Cross-correlation of the said arrays:\\n\", cross_corr)"
   ]
  },
  {
   "cell_type": "code",
   "execution_count": null,
   "id": "5b1b461d",
   "metadata": {},
   "outputs": [],
   "source": [
    "'''\n",
    "Download any dataset from UCI (do not repeat it from set B). Read this csv file using \n",
    "read_csv() function. Describe the dataset using appropriate function. Display mean value \n",
    "of numeric attribute. Check any data values are missing or not.\n",
    "'''\n",
    "# NOTE: Replace 'winequality-red.csv' with actual downloaded CSV file path (Or download it from the CSV files folder)\n",
    "wine = pd.read_csv(\"winequality-red.csv\")\n",
    "\n",
    "print(\"\\nDataset description:\\n\", wine.describe(include=\"all\"))\n",
    "print(\"\\nMean values of numeric attributes:\\n\", wine.select_dtypes(include=\"number\").mean())\n",
    "print(\"\\nMissing values:\\n\", wine.isnull().sum())"
   ]
  },
  {
   "cell_type": "code",
   "execution_count": null,
   "id": "2143d420",
   "metadata": {},
   "outputs": [],
   "source": [
    "'''\n",
    "Download nursery dataset from UCI. \n",
    "Split dataset on any one categorical attribute. \n",
    "Compare the means of each split. (Use groupby)\n",
    "'''\n",
    "nursery = pd.read_csv(\"nursery.csv\")\n",
    "\n",
    "# Example: split on 'parents' column\n",
    "print(\"\\nGrouped mean by 'parents' attribute:\\n\", nursery.groupby('parents').mean(numeric_only=True))\n"
   ]
  },
  {
   "cell_type": "code",
   "execution_count": null,
   "id": "71909695",
   "metadata": {},
   "outputs": [],
   "source": [
    "'''\n",
    "Create one dataframe with 5 subjects and marks of 10 students for each subject. Find \n",
    "arithmetic mean, geometric mean, and harmonic mean.\n",
    "'''\n",
    "\n",
    "marks = pd.DataFrame({\n",
    "    \"Math\": np.random.randint(40, 100, 10),\n",
    "    \"Science\": np.random.randint(40, 100, 10),\n",
    "    \"English\": np.random.randint(40, 100, 10),\n",
    "    \"History\": np.random.randint(40, 100, 10),\n",
    "    \"Computer\": np.random.randint(40, 100, 10)\n",
    "})\n",
    "\n",
    "print(\"\\nMarks Dataframe:\\n\", marks)\n",
    "\n",
    "arith_mean = marks.mean()\n",
    "geo_mean = gmean(marks, axis=0)\n",
    "harm_mean = hmean(marks, axis=0)\n",
    "\n",
    "print(\"\\nArithmetic mean:\\n\", arith_mean)\n",
    "print(\"\\nGeometric mean:\\n\", geo_mean)\n",
    "print(\"\\nHarmonic mean:\\n\", harm_mean)"
   ]
  },
  {
   "cell_type": "code",
   "execution_count": null,
   "id": "d684186d",
   "metadata": {},
   "outputs": [],
   "source": [
    "'''\n",
    "Download any csv file of your choice and display details about data using pandas profiling. \n",
    "Show stats in HTML form.\n",
    "'''\n",
    "\n",
    "from ydata_profiling import ProfileReport\n",
    "\n",
    "# Replace with any CSV, e.g. \"iris.csv\"\n",
    "iris = pd.read_csv(\"iris.csv\")\n",
    "profile = ProfileReport(iris, title=\"Iris Dataset Profiling Report\", explorative=True)\n",
    "\n",
    "# Save report as HTML\n",
    "profile.to_file(\"iris_profiling_report.html\")\n",
    "print(\"\\nProfiling report saved as iris_profiling_report.html\")"
   ]
  }
 ],
 "metadata": {
  "kernelspec": {
   "display_name": "Python 3",
   "language": "python",
   "name": "python3"
  },
  "language_info": {
   "codemirror_mode": {
    "name": "ipython",
    "version": 3
   },
   "file_extension": ".py",
   "mimetype": "text/x-python",
   "name": "python",
   "nbconvert_exporter": "python",
   "pygments_lexer": "ipython3",
   "version": "3.12.7"
  }
 },
 "nbformat": 4,
 "nbformat_minor": 5
}
