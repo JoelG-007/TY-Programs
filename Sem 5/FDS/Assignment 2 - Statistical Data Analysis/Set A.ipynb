{
 "cells": [
  {
   "cell_type": "code",
   "execution_count": null,
   "id": "de1d3965",
   "metadata": {},
   "outputs": [],
   "source": [
    "\"\"\"\n",
    "1. Write a Python program to find the maximum and minimum value of a given flattened \n",
    "array. \n",
    "    Expected Output: \n",
    "    Original flattened array: \n",
    "     [[0 1] \n",
    "     [2 3]] \n",
    "    \n",
    "    Maximum value of the above flattened array: \n",
    "     3 \n",
    "    Minimum value of the above flattened array: \n",
    "     0 \n",
    "\n",
    "2. Write a python program to compute Euclidian Distance between two data points in a \n",
    "dataset. [Hint: Use linalgo.norm function from NumPy] \n",
    "\n",
    "3. Create one dataframe of data values. Find out mean, range and IQR for this data. \n",
    "\n",
    "4. Write a python program to compute sum of Manhattan distance between all pairs of \n",
    "points. \n",
    "\n",
    "5. Write a NumPy program to compute the histogram of nums against the bins. \n",
    "    Sample Output: \n",
    "    nums: [0.5 0.7 1. 1.2 1.3 2.1] \n",
    "    bins: [0 1 2 3] \n",
    "    Result: (array([2, 3, 1], dtype=int64), array([0, 1, 2, 3])) \n",
    "\n",
    "6. Create a dataframe for students’ information such name, graduation percentage and age. \n",
    "Display average age of students, average of graduation percentage. And, also describe all \n",
    "basic statistics of data. (Hint: use describe()).\n",
    "\"\"\""
   ]
  },
  {
   "cell_type": "code",
   "execution_count": null,
   "id": "4d43339b",
   "metadata": {},
   "outputs": [],
   "source": [
    "import numpy as np\n",
    "import pandas as pd"
   ]
  },
  {
   "cell_type": "code",
   "execution_count": null,
   "id": "f0b94ee5",
   "metadata": {},
   "outputs": [],
   "source": [
    "'''\n",
    "Write a Python program to find the maximum and minimum value of a given flattened \n",
    "array.\n",
    "'''\n",
    "\n",
    "arr = np.array([[0, 1], [2, 3]])\n",
    "print(\"Original flattened array:\\n\", arr)\n",
    "\n",
    "print(\"Maximum value of the above flattened array:\\n\", np.max(arr))\n",
    "print(\"Minimum value of the above flattened array:\\n\", np.min(arr))"
   ]
  },
  {
   "cell_type": "code",
   "execution_count": null,
   "id": "f1e88ad2",
   "metadata": {},
   "outputs": [],
   "source": [
    "'''\n",
    "Write a python program to compute Euclidian Distance between two data points in a \n",
    "dataset. [Hint: Use linalgo.norm function from NumPy] \n",
    "'''\n",
    "\n",
    "p1 = np.array([1, 2])\n",
    "p2 = np.array([4, 6])\n",
    "euclidean_distance = np.linalg.norm(p1 - p2)\n",
    "print(\"\\nEuclidean Distance between p1 and p2:\", euclidean_distance)"
   ]
  },
  {
   "cell_type": "code",
   "execution_count": null,
   "id": "f1ba9487",
   "metadata": {},
   "outputs": [],
   "source": [
    "'''\n",
    "Create one dataframe of data values. Find out mean, range and IQR for this data. \n",
    "'''\n",
    "\n",
    "df = pd.DataFrame({\n",
    "    \"values\": [10, 20, 25, 30, 35, 40, 45, 50]\n",
    "})\n",
    "print(\"\\nDataframe:\\n\", df)\n",
    "\n",
    "mean_val = df[\"values\"].mean()\n",
    "range_val = df[\"values\"].max() - df[\"values\"].min()\n",
    "q75, q25 = np.percentile(df[\"values\"], [75, 25])\n",
    "iqr_val = q75 - q25\n",
    "\n",
    "print(\"Mean:\", mean_val)\n",
    "print(\"Range:\", range_val)\n",
    "print(\"IQR:\", iqr_val)"
   ]
  },
  {
   "cell_type": "code",
   "execution_count": null,
   "id": "2eb03150",
   "metadata": {},
   "outputs": [],
   "source": [
    "'''\n",
    "Write a python program to compute sum of Manhattan distance between all pairs of \n",
    "points. \n",
    "'''\n",
    "\n",
    "points = np.array([[1, 2], [3, 4], [5, 6]])\n",
    "manhattan_sum = 0\n",
    "for i in range(len(points)):\n",
    "    for j in range(i + 1, len(points)):\n",
    "        manhattan_sum += np.sum(np.abs(points[i] - points[j]))\n",
    "print(\"\\nSum of Manhattan distances between all pairs:\", manhattan_sum)"
   ]
  },
  {
   "cell_type": "code",
   "execution_count": null,
   "id": "da5f68ee",
   "metadata": {},
   "outputs": [],
   "source": [
    "'''\n",
    "Write a NumPy program to compute the histogram of nums against the bins.\n",
    "'''\n",
    "\n",
    "nums = np.array([0.5, 0.7, 1.0, 1.2, 1.3, 2.1])\n",
    "bins = np.array([0, 1, 2, 3])\n",
    "hist_result = np.histogram(nums, bins=bins)\n",
    "\n",
    "print(\"\\nnums:\", nums)\n",
    "print(\"bins:\", bins)\n",
    "print(\"Result:\", hist_result)"
   ]
  },
  {
   "cell_type": "code",
   "execution_count": null,
   "id": "b2e0f4eb",
   "metadata": {},
   "outputs": [],
   "source": [
    "'''\n",
    "Create a dataframe for students’ information such name, graduation percentage and age. \n",
    "Display average age of students, average of graduation percentage. And, also describe all \n",
    "basic statistics of data. (Hint: use describe()).\n",
    "'''\n",
    "\n",
    "students = pd.DataFrame({\n",
    "    \"name\": [\"Alice\", \"Bob\", \"Charlie\", \"David\", \"Eve\"],\n",
    "    \"graduation_percentage\": [85, 90, 78, 92, 88],\n",
    "    \"age\": [21, 22, 23, 21, 22]\n",
    "})\n",
    "\n",
    "print(\"\\nStudents Dataframe:\\n\", students)\n",
    "print(\"\\nAverage age of students:\", students[\"age\"].mean())\n",
    "print(\"Average graduation percentage:\", students[\"graduation_percentage\"].mean())\n",
    "print(\"\\nDescribe statistics of data:\\n\", students.describe(include=\"all\"))"
   ]
  }
 ],
 "metadata": {
  "kernelspec": {
   "display_name": "Python 3",
   "language": "python",
   "name": "python3"
  },
  "language_info": {
   "codemirror_mode": {
    "name": "ipython",
    "version": 3
   },
   "file_extension": ".py",
   "mimetype": "text/x-python",
   "name": "python",
   "nbconvert_exporter": "python",
   "pygments_lexer": "ipython3",
   "version": "3.12.7"
  }
 },
 "nbformat": 4,
 "nbformat_minor": 5
}
